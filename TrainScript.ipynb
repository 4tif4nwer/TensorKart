{
  "cells": [
    {
      "cell_type": "markdown",
      "metadata": {
        "colab_type": "text",
        "id": "view-in-github"
      },
      "source": [
        "<a href=\"https://colab.research.google.com/github/4tif4nwer/TensorKart/blob/master/TrainScript.ipynb\" target=\"_parent\"><img src=\"https://colab.research.google.com/assets/colab-badge.svg\" alt=\"Open In Colab\"/></a>"
      ]
    },
    {
      "cell_type": "code",
      "execution_count": 1,
      "metadata": {
        "colab": {
          "base_uri": "https://localhost:8080/"
        },
        "id": "NxNgRKnhoGYy",
        "outputId": "f8b8ee2a-25bc-49aa-eeca-b0beb1284756"
      },
      "outputs": [
        {
          "name": "stdout",
          "output_type": "stream",
          "text": [
            "Cloning into 'TensorKart'...\n",
            "remote: Enumerating objects: 1141, done.\u001b[K\n",
            "remote: Counting objects: 100% (499/499), done.\u001b[K\n",
            "remote: Compressing objects: 100% (490/490), done.\u001b[K\n",
            "remote: Total 1141 (delta 12), reused 489 (delta 8), pack-reused 642\u001b[K\n",
            "Receiving objects: 100% (1141/1141), 1.03 GiB | 28.41 MiB/s, done.\n",
            "Resolving deltas: 100% (206/206), done.\n",
            "Checking out files: 100% (482/482), done.\n"
          ]
        }
      ],
      "source": [
        "!git clone https://github.com/4tif4nwer/TensorKart.git\n",
        "!mv TensorKart/* ./"
      ]
    },
    {
      "cell_type": "code",
      "execution_count": 2,
      "metadata": {
        "colab": {
          "base_uri": "https://localhost:8080/"
        },
        "id": "nmobZtkyo-uH",
        "outputId": "a9412404-267e-4a3f-c745-4e0e3a9b9fc8"
      },
      "outputs": [
        {
          "name": "stdout",
          "output_type": "stream",
          "text": [
            "Looking in indexes: https://pypi.org/simple, https://us-python.pkg.dev/colab-wheels/public/simple/\n",
            "Collecting mss\n",
            "  Downloading mss-6.1.0-py3-none-any.whl (76 kB)\n",
            "\u001b[K     |████████████████████████████████| 76 kB 4.1 MB/s \n",
            "\u001b[?25hInstalling collected packages: mss\n",
            "Successfully installed mss-6.1.0\n",
            "Looking in indexes: https://pypi.org/simple, https://us-python.pkg.dev/colab-wheels/public/simple/\n",
            "Collecting inputs\n",
            "  Downloading inputs-0.5-py2.py3-none-any.whl (33 kB)\n",
            "Installing collected packages: inputs\n",
            "Successfully installed inputs-0.5\n"
          ]
        }
      ],
      "source": [
        "!pip install mss\n",
        "!pip install inputs"
      ]
    },
    {
      "cell_type": "code",
      "execution_count": 3,
      "metadata": {
        "colab": {
          "base_uri": "https://localhost:8080/"
        },
        "id": "vsO-hYJjooxg",
        "outputId": "1886b52d-ffeb-4232-d410-59db49a450aa"
      },
      "outputs": [
        {
          "name": "stdout",
          "output_type": "stream",
          "text": [
            "Preparing data\n",
            "There are 469 samples\n",
            "tcmalloc: large alloc 2917556224 bytes == 0x2df4000 @  0x7f062c3c21e7 0x7f0629d130ce 0x7f0629d69cf5 0x7f0629d69f4f 0x7f0629e0c673 0x5936cc 0x548c51 0x5127f1 0x593dd7 0x5118f8 0x549576 0x604173 0x5f5506 0x5f8c6c 0x5f9206 0x64faf2 0x64fc4e 0x7f062bfbfc87 0x5b621a\n",
            "samples/data.csv/data.csv\n",
            "Saving to file...\n",
            "Done!\n"
          ]
        }
      ],
      "source": [
        "!python utils.py prepare samples/data.csv/*"
      ]
    },
    {
      "cell_type": "code",
      "execution_count": 5,
      "metadata": {
        "colab": {
          "base_uri": "https://localhost:8080/"
        },
        "id": "zNSx_vwXo8GO",
        "outputId": "c5ad74db-e3b8-489a-a69d-c8617de07fcf"
      },
      "outputs": [
        {
          "name": "stdout",
          "output_type": "stream",
          "text": [
            "469 train samples\n"
          ]
        },
        {
          "name": "stderr",
          "output_type": "stream",
          "text": [
            "2022-06-29 01:23:06.670411: I tensorflow/core/platform/cpu_feature_guard.cc:193] This TensorFlow binary is optimized with oneAPI Deep Neural Network Library (oneDNN) to use the following CPU instructions in performance-critical operations:  AVX AVX2\n",
            "To enable them in other operations, rebuild TensorFlow with the appropriate compiler flags.\n",
            "2022-06-29 01:23:07.174720: I tensorflow/core/common_runtime/gpu/gpu_device.cc:1532] Created device /job:localhost/replica:0/task:0/device:GPU:0 with 2149 MB memory:  -> device: 0, name: NVIDIA GeForce GTX 1650, pci bus id: 0000:01:00.0, compute capability: 7.5\n",
            "2022-06-29 01:23:17.397416: W tensorflow/core/common_runtime/bfc_allocator.cc:479] Allocator (GPU_0_bfc) ran out of memory trying to allocate 2.44GiB (rounded to 2625177600)requested by op _EagerConst\n",
            "If the cause is memory fragmentation maybe the environment variable 'TF_GPU_ALLOCATOR=cuda_malloc_async' will improve the situation. \n",
            "Current allocation summary follows.\n",
            "Current allocation summary follows.\n",
            "2022-06-29 01:23:17.398147: I tensorflow/core/common_runtime/bfc_allocator.cc:1027] BFCAllocator dump for GPU_0_bfc\n",
            "2022-06-29 01:23:17.398283: I tensorflow/core/common_runtime/bfc_allocator.cc:1034] Bin (256): \tTotal Chunks: 19, Chunks in use: 19. 4.8KiB allocated for chunks. 4.8KiB in use in bin. 528B client-requested in use in bin.\n",
            "2022-06-29 01:23:17.398854: I tensorflow/core/common_runtime/bfc_allocator.cc:1034] Bin (512): \tTotal Chunks: 2, Chunks in use: 2. 1.0KiB allocated for chunks. 1.0KiB in use in bin. 800B client-requested in use in bin.\n",
            "2022-06-29 01:23:17.399095: I tensorflow/core/common_runtime/bfc_allocator.cc:1034] Bin (1024): \tTotal Chunks: 1, Chunks in use: 1. 1.2KiB allocated for chunks. 1.2KiB in use in bin. 1.0KiB client-requested in use in bin.\n",
            "2022-06-29 01:23:17.399400: I tensorflow/core/common_runtime/bfc_allocator.cc:1034] Bin (2048): \tTotal Chunks: 2, Chunks in use: 1. 4.2KiB allocated for chunks. 2.0KiB in use in bin. 2.0KiB client-requested in use in bin.\n",
            "2022-06-29 01:23:17.399651: I tensorflow/core/common_runtime/bfc_allocator.cc:1034] Bin (4096): \tTotal Chunks: 0, Chunks in use: 0. 0B allocated for chunks. 0B in use in bin. 0B client-requested in use in bin.\n",
            "2022-06-29 01:23:17.399940: I tensorflow/core/common_runtime/bfc_allocator.cc:1034] Bin (8192): \tTotal Chunks: 0, Chunks in use: 0. 0B allocated for chunks. 0B in use in bin. 0B client-requested in use in bin.\n",
            "2022-06-29 01:23:17.400263: I tensorflow/core/common_runtime/bfc_allocator.cc:1034] Bin (16384): \tTotal Chunks: 0, Chunks in use: 0. 0B allocated for chunks. 0B in use in bin. 0B client-requested in use in bin.\n",
            "2022-06-29 01:23:17.400509: I tensorflow/core/common_runtime/bfc_allocator.cc:1034] Bin (32768): \tTotal Chunks: 3, Chunks in use: 2. 110.0KiB allocated for chunks. 77.2KiB in use in bin. 58.6KiB client-requested in use in bin.\n",
            "2022-06-29 01:23:17.400782: I tensorflow/core/common_runtime/bfc_allocator.cc:1034] Bin (65536): \tTotal Chunks: 0, Chunks in use: 0. 0B allocated for chunks. 0B in use in bin. 0B client-requested in use in bin.\n",
            "2022-06-29 01:23:17.400930: I tensorflow/core/common_runtime/bfc_allocator.cc:1034] Bin (131072): \tTotal Chunks: 0, Chunks in use: 0. 0B allocated for chunks. 0B in use in bin. 0B client-requested in use in bin.\n",
            "2022-06-29 01:23:17.401161: I tensorflow/core/common_runtime/bfc_allocator.cc:1034] Bin (262144): \tTotal Chunks: 0, Chunks in use: 0. 0B allocated for chunks. 0B in use in bin. 0B client-requested in use in bin.\n",
            "2022-06-29 01:23:17.401372: I tensorflow/core/common_runtime/bfc_allocator.cc:1034] Bin (524288): \tTotal Chunks: 0, Chunks in use: 0. 0B allocated for chunks. 0B in use in bin. 0B client-requested in use in bin.\n",
            "2022-06-29 01:23:17.401630: I tensorflow/core/common_runtime/bfc_allocator.cc:1034] Bin (1048576): \tTotal Chunks: 0, Chunks in use: 0. 0B allocated for chunks. 0B in use in bin. 0B client-requested in use in bin.\n",
            "2022-06-29 01:23:17.401832: I tensorflow/core/common_runtime/bfc_allocator.cc:1034] Bin (2097152): \tTotal Chunks: 0, Chunks in use: 0. 0B allocated for chunks. 0B in use in bin. 0B client-requested in use in bin.\n",
            "2022-06-29 01:23:17.402087: I tensorflow/core/common_runtime/bfc_allocator.cc:1034] Bin (4194304): \tTotal Chunks: 0, Chunks in use: 0. 0B allocated for chunks. 0B in use in bin. 0B client-requested in use in bin.\n",
            "2022-06-29 01:23:17.402292: I tensorflow/core/common_runtime/bfc_allocator.cc:1034] Bin (8388608): \tTotal Chunks: 1, Chunks in use: 1. 12.36MiB allocated for chunks. 12.36MiB in use in bin. 12.36MiB client-requested in use in bin.\n",
            "2022-06-29 01:23:17.402504: I tensorflow/core/common_runtime/bfc_allocator.cc:1034] Bin (16777216): \tTotal Chunks: 1, Chunks in use: 0. 24.60MiB allocated for chunks. 0B in use in bin. 0B client-requested in use in bin.\n",
            "2022-06-29 01:23:17.402748: I tensorflow/core/common_runtime/bfc_allocator.cc:1034] Bin (33554432): \tTotal Chunks: 0, Chunks in use: 0. 0B allocated for chunks. 0B in use in bin. 0B client-requested in use in bin.\n",
            "2022-06-29 01:23:17.402980: I tensorflow/core/common_runtime/bfc_allocator.cc:1034] Bin (67108864): \tTotal Chunks: 0, Chunks in use: 0. 0B allocated for chunks. 0B in use in bin. 0B client-requested in use in bin.\n",
            "2022-06-29 01:23:17.403172: I tensorflow/core/common_runtime/bfc_allocator.cc:1034] Bin (134217728): \tTotal Chunks: 0, Chunks in use: 0. 0B allocated for chunks. 0B in use in bin. 0B client-requested in use in bin.\n",
            "2022-06-29 01:23:17.403417: I tensorflow/core/common_runtime/bfc_allocator.cc:1034] Bin (268435456): \tTotal Chunks: 1, Chunks in use: 0. 2.06GiB allocated for chunks. 0B in use in bin. 0B client-requested in use in bin.\n",
            "2022-06-29 01:23:17.403564: I tensorflow/core/common_runtime/bfc_allocator.cc:1050] Bin for 2.44GiB was 256.00MiB, Chunk State: \n",
            "2022-06-29 01:23:17.403640: I tensorflow/core/common_runtime/bfc_allocator.cc:1056]   Size: 2.06GiB | Requested Size: 0B | in_use: 0 | bin_num: 20, prev:   Size: 12.36MiB | Requested Size: 12.36MiB | in_use: 1 | bin_num: -1\n",
            "2022-06-29 01:23:17.403996: I tensorflow/core/common_runtime/bfc_allocator.cc:1063] Next region of size 2254123776\n",
            "2022-06-29 01:23:17.404149: I tensorflow/core/common_runtime/bfc_allocator.cc:1083] InUse at 70aa00000 of size 256 next 1\n",
            "2022-06-29 01:23:17.404276: I tensorflow/core/common_runtime/bfc_allocator.cc:1083] InUse at 70aa00100 of size 1280 next 2\n",
            "2022-06-29 01:23:17.404363: I tensorflow/core/common_runtime/bfc_allocator.cc:1083] InUse at 70aa00600 of size 256 next 3\n",
            "2022-06-29 01:23:17.404436: I tensorflow/core/common_runtime/bfc_allocator.cc:1083] InUse at 70aa00700 of size 256 next 4\n",
            "2022-06-29 01:23:17.404651: I tensorflow/core/common_runtime/bfc_allocator.cc:1083] InUse at 70aa00800 of size 256 next 5\n",
            "2022-06-29 01:23:17.404774: I tensorflow/core/common_runtime/bfc_allocator.cc:1083] InUse at 70aa00900 of size 512 next 6\n",
            "2022-06-29 01:23:17.404905: I tensorflow/core/common_runtime/bfc_allocator.cc:1083] InUse at 70aa00b00 of size 256 next 9\n",
            "2022-06-29 01:23:17.405076: I tensorflow/core/common_runtime/bfc_allocator.cc:1083] InUse at 70aa00c00 of size 256 next 10\n",
            "2022-06-29 01:23:17.405233: I tensorflow/core/common_runtime/bfc_allocator.cc:1083] InUse at 70aa00d00 of size 512 next 11\n",
            "2022-06-29 01:23:17.405303: I tensorflow/core/common_runtime/bfc_allocator.cc:1083] InUse at 70aa00f00 of size 256 next 12\n",
            "2022-06-29 01:23:17.405459: I tensorflow/core/common_runtime/bfc_allocator.cc:1083] InUse at 70aa01000 of size 256 next 15\n",
            "2022-06-29 01:23:17.405590: I tensorflow/core/common_runtime/bfc_allocator.cc:1083] InUse at 70aa01100 of size 256 next 16\n",
            "2022-06-29 01:23:17.405724: I tensorflow/core/common_runtime/bfc_allocator.cc:1083] InUse at 70aa01200 of size 256 next 17\n",
            "2022-06-29 01:23:17.405909: I tensorflow/core/common_runtime/bfc_allocator.cc:1083] InUse at 70aa01300 of size 256 next 19\n",
            "2022-06-29 01:23:17.406047: I tensorflow/core/common_runtime/bfc_allocator.cc:1083] InUse at 70aa01400 of size 256 next 20\n",
            "2022-06-29 01:23:17.406193: I tensorflow/core/common_runtime/bfc_allocator.cc:1083] InUse at 70aa01500 of size 256 next 21\n",
            "2022-06-29 01:23:17.406273: I tensorflow/core/common_runtime/bfc_allocator.cc:1083] InUse at 70aa01600 of size 256 next 24\n",
            "2022-06-29 01:23:17.406351: I tensorflow/core/common_runtime/bfc_allocator.cc:1083] InUse at 70aa01700 of size 256 next 25\n",
            "2022-06-29 01:23:17.406532: I tensorflow/core/common_runtime/bfc_allocator.cc:1083] InUse at 70aa01800 of size 256 next 26\n",
            "2022-06-29 01:23:17.406660: I tensorflow/core/common_runtime/bfc_allocator.cc:1083] InUse at 70aa01900 of size 256 next 27\n",
            "2022-06-29 01:23:17.406738: I tensorflow/core/common_runtime/bfc_allocator.cc:1083] InUse at 70aa01a00 of size 256 next 28\n",
            "2022-06-29 01:23:17.406807: I tensorflow/core/common_runtime/bfc_allocator.cc:1083] InUse at 70aa01b00 of size 256 next 29\n",
            "2022-06-29 01:23:17.406915: I tensorflow/core/common_runtime/bfc_allocator.cc:1083] Free  at 70aa01c00 of size 2304 next 22\n",
            "2022-06-29 01:23:17.407124: I tensorflow/core/common_runtime/bfc_allocator.cc:1083] InUse at 70aa02500 of size 2048 next 23\n",
            "2022-06-29 01:23:17.407273: I tensorflow/core/common_runtime/bfc_allocator.cc:1083] Free  at 70aa02d00 of size 33536 next 18\n",
            "2022-06-29 01:23:17.407433: I tensorflow/core/common_runtime/bfc_allocator.cc:1083] InUse at 70aa0b000 of size 38912 next 13\n",
            "2022-06-29 01:23:17.407620: I tensorflow/core/common_runtime/bfc_allocator.cc:1083] InUse at 70aa14800 of size 40192 next 14\n",
            "2022-06-29 01:23:17.407799: I tensorflow/core/common_runtime/bfc_allocator.cc:1083] Free  at 70aa1e500 of size 25798144 next 7\n",
            "2022-06-29 01:23:17.407915: I tensorflow/core/common_runtime/bfc_allocator.cc:1083] InUse at 70c2b8b00 of size 12960000 next 8\n",
            "2022-06-29 01:23:17.408084: I tensorflow/core/common_runtime/bfc_allocator.cc:1083] Free  at 70cf14c00 of size 2215241472 next 18446744073709551615\n",
            "2022-06-29 01:23:17.408288: I tensorflow/core/common_runtime/bfc_allocator.cc:1088]      Summary of in-use Chunks by size: \n",
            "2022-06-29 01:23:17.408454: I tensorflow/core/common_runtime/bfc_allocator.cc:1091] 19 Chunks of size 256 totalling 4.8KiB\n",
            "2022-06-29 01:23:17.408546: I tensorflow/core/common_runtime/bfc_allocator.cc:1091] 2 Chunks of size 512 totalling 1.0KiB\n",
            "2022-06-29 01:23:17.408749: I tensorflow/core/common_runtime/bfc_allocator.cc:1091] 1 Chunks of size 1280 totalling 1.2KiB\n",
            "2022-06-29 01:23:17.408876: I tensorflow/core/common_runtime/bfc_allocator.cc:1091] 1 Chunks of size 2048 totalling 2.0KiB\n",
            "2022-06-29 01:23:17.408990: I tensorflow/core/common_runtime/bfc_allocator.cc:1091] 1 Chunks of size 38912 totalling 38.0KiB\n",
            "2022-06-29 01:23:17.409171: I tensorflow/core/common_runtime/bfc_allocator.cc:1091] 1 Chunks of size 40192 totalling 39.2KiB\n",
            "2022-06-29 01:23:17.409321: I tensorflow/core/common_runtime/bfc_allocator.cc:1091] 1 Chunks of size 12960000 totalling 12.36MiB\n",
            "2022-06-29 01:23:17.409440: I tensorflow/core/common_runtime/bfc_allocator.cc:1095] Sum Total of in-use chunks: 12.44MiB\n",
            "2022-06-29 01:23:17.409615: I tensorflow/core/common_runtime/bfc_allocator.cc:1097] total_region_allocated_bytes_: 2254123776 memory_limit_: 2254123828 available bytes: 52 curr_region_allocation_bytes_: 4508248064\n",
            "2022-06-29 01:23:17.409781: I tensorflow/core/common_runtime/bfc_allocator.cc:1103] Stats: \n",
            "Limit:                      2254123828\n",
            "InUse:                        13048320\n",
            "MaxInUse:                     38882048\n",
            "NumAllocs:                          41\n",
            "MaxAllocSize:                 12960000\n",
            "Reserved:                            0\n",
            "PeakReserved:                        0\n",
            "LargestFreeBlock:                    0\n",
            "\n",
            "2022-06-29 01:23:17.410283: W tensorflow/core/common_runtime/bfc_allocator.cc:491] **__________________________________________________________________________________________________\n",
            "Traceback (most recent call last):\n",
            "  File \"train.py\", line 72, in <module>\n",
            "    model.fit(x_train, y_train, batch_size=batch_size, epochs=epochs, shuffle=True, validation_split=0.1, callbacks=callbacks_list)\n",
            "  File \"C:\\Users\\atifa\\anaconda3\\lib\\site-packages\\keras\\utils\\traceback_utils.py\", line 67, in error_handler\n",
            "    raise e.with_traceback(filtered_tb) from None\n",
            "  File \"C:\\Users\\atifa\\anaconda3\\lib\\site-packages\\tensorflow\\python\\framework\\constant_op.py\", line 102, in convert_to_eager_tensor\n",
            "    return ops.EagerTensor(value, ctx.device_name, dtype)\n",
            "tensorflow.python.framework.errors_impl.InternalError: Failed copying input tensor from /job:localhost/replica:0/task:0/device:CPU:0 to /job:localhost/replica:0/task:0/device:GPU:0 in order to run _EagerConst: Dst tensor is not initialized.\n"
          ]
        }
      ],
      "source": [
        "!python train.py"
      ]
    }
  ],
  "metadata": {
    "accelerator": "GPU",
    "colab": {
      "authorship_tag": "ABX9TyOWBUjkiw2xWMvDlo1HiwTs",
      "include_colab_link": true,
      "name": "TrainScript.ipynb",
      "provenance": []
    },
    "gpuClass": "standard",
    "kernelspec": {
      "display_name": "Python 3",
      "name": "python3"
    },
    "language_info": {
      "codemirror_mode": {
        "name": "ipython",
        "version": 3
      },
      "file_extension": ".py",
      "mimetype": "text/x-python",
      "name": "python",
      "nbconvert_exporter": "python",
      "pygments_lexer": "ipython3",
      "version": "3.8.8"
    }
  },
  "nbformat": 4,
  "nbformat_minor": 0
}
