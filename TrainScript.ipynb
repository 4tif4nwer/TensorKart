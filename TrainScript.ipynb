{
  "nbformat": 4,
  "nbformat_minor": 0,
  "metadata": {
    "colab": {
      "name": "TrainScript.ipynb",
      "provenance": [],
      "authorship_tag": "ABX9TyOqm1vhS8UtnLB9srNJcOTE",
      "include_colab_link": true
    },
    "kernelspec": {
      "name": "python3",
      "display_name": "Python 3"
    },
    "language_info": {
      "name": "python"
    }
  },
  "cells": [
    {
      "cell_type": "markdown",
      "metadata": {
        "id": "view-in-github",
        "colab_type": "text"
      },
      "source": [
        "<a href=\"https://colab.research.google.com/github/4tif4nwer/TensorKart/blob/master/TrainScript.ipynb\" target=\"_parent\"><img src=\"https://colab.research.google.com/assets/colab-badge.svg\" alt=\"Open In Colab\"/></a>"
      ]
    },
    {
      "cell_type": "code",
      "execution_count": 1,
      "metadata": {
        "colab": {
          "base_uri": "https://localhost:8080/"
        },
        "id": "NxNgRKnhoGYy",
        "outputId": "fbaf4049-d562-4d99-e9fd-e2f98c55e091"
      },
      "outputs": [
        {
          "output_type": "stream",
          "name": "stdout",
          "text": [
            "Cloning into 'TensorKart'...\n",
            "remote: Enumerating objects: 1138, done.\u001b[K\n",
            "remote: Counting objects: 100% (496/496), done.\u001b[K\n",
            "remote: Compressing objects: 100% (487/487), done.\u001b[K\n",
            "remote: Total 1138 (delta 11), reused 490 (delta 8), pack-reused 642\u001b[K\n",
            "Receiving objects: 100% (1138/1138), 1.03 GiB | 40.24 MiB/s, done.\n",
            "Resolving deltas: 100% (205/205), done.\n",
            "Checking out files: 100% (481/481), done.\n"
          ]
        }
      ],
      "source": [
        "!git clone https://github.com/4tif4nwer/TensorKart.git\n",
        "!mv TensorKart/* ./"
      ]
    },
    {
      "cell_type": "code",
      "source": [
        "!pip install mss\n",
        "!pip install inputs"
      ],
      "metadata": {
        "colab": {
          "base_uri": "https://localhost:8080/"
        },
        "id": "nmobZtkyo-uH",
        "outputId": "9789e575-5b1e-4d84-857f-ccd1c872278a"
      },
      "execution_count": 4,
      "outputs": [
        {
          "output_type": "stream",
          "name": "stdout",
          "text": [
            "Looking in indexes: https://pypi.org/simple, https://us-python.pkg.dev/colab-wheels/public/simple/\n",
            "Collecting mss\n",
            "  Downloading mss-6.1.0-py3-none-any.whl (76 kB)\n",
            "\u001b[K     |████████████████████████████████| 76 kB 3.4 MB/s \n",
            "\u001b[?25hInstalling collected packages: mss\n",
            "Successfully installed mss-6.1.0\n",
            "Looking in indexes: https://pypi.org/simple, https://us-python.pkg.dev/colab-wheels/public/simple/\n",
            "Requirement already satisfied: inputs in /usr/local/lib/python3.7/dist-packages (0.5)\n"
          ]
        }
      ]
    },
    {
      "cell_type": "code",
      "source": [
        "!python utils.py prepare samples/data.csv/*"
      ],
      "metadata": {
        "colab": {
          "base_uri": "https://localhost:8080/"
        },
        "id": "vsO-hYJjooxg",
        "outputId": "44b8f370-ceae-419d-ab76-2d29a0a66da7"
      },
      "execution_count": null,
      "outputs": [
        {
          "metadata": {
            "tags": null
          },
          "name": "stdout",
          "output_type": "stream",
          "text": [
            "Preparing data\n",
            "There are 469 samples\n",
            "tcmalloc: large alloc 2917556224 bytes == 0x47f8000 @  0x7f5ff4ef21e7 0x7f5ff28430ce 0x7f5ff2899cf5 0x7f5ff2899f4f 0x7f5ff293c673 0x5936cc 0x548c51 0x5127f1 0x593dd7 0x5118f8 0x549576 0x604173 0x5f5506 0x5f8c6c 0x5f9206 0x64faf2 0x64fc4e 0x7f5ff4aefc87 0x5b621a\n",
            "samples/data.csv/data.csv\n"
          ]
        }
      ]
    },
    {
      "cell_type": "code",
      "source": [
        ""
      ],
      "metadata": {
        "id": "zNSx_vwXo8GO"
      },
      "execution_count": null,
      "outputs": []
    }
  ]
}